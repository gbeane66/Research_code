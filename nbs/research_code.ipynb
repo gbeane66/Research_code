{
 "cells": [
  {
   "cell_type": "markdown",
   "metadata": {},
   "source": [
    "# research_code\n",
    "\n",
    "> A selection of useful code chunks for analysing THz-TDS data."
   ]
  },
  {
   "cell_type": "code",
   "execution_count": null,
   "metadata": {},
   "outputs": [],
   "source": [
    "#| hide\n",
    "from fastcore.test import *"
   ]
  },
  {
   "cell_type": "code",
   "execution_count": null,
   "metadata": {},
   "outputs": [],
   "source": [
    "#| default_exp research_code"
   ]
  },
  {
   "cell_type": "code",
   "execution_count": null,
   "metadata": {},
   "outputs": [],
   "source": [
    "#| export\n",
    "def exp_decay(time,*popt):\n",
    "\n",
    "    A,tau1,t0 = popt\n",
    "\n",
    "    decayOutput = A * np.exp(-(time-t0)/tau1)\n",
    "    \n",
    "    return decayOutput"
   ]
  },
  {
   "cell_type": "markdown",
   "metadata": {},
   "source": [
    "This function will return a monoexponential decay for a given time array.\n",
    "'popt' here will be \n",
    "\n",
    "Args:\n",
    "    tau1 (float): decay time1 (ps)\n",
    "    t0 (float): time offset (ps)\n",
    "    A (float): amplitude\n",
    "\n",
    "Returns:\n",
    "    float: the decay trace\n",
    "\n",
    "| Variable      | Description |\n",
    "| ----------- | ----------- |\n",
    "| tau1 (float)    | decay time1 (ps)       |\n",
    "| t0 (float)   | time offset (ps)        |"
   ]
  },
  {
   "cell_type": "code",
   "execution_count": null,
   "metadata": {},
   "outputs": [],
   "source": [
    "#| hide\n",
    "from nbdev.showdoc import *"
   ]
  },
  {
   "cell_type": "code",
   "execution_count": null,
   "metadata": {},
   "outputs": [],
   "source": [
    "#| export\n",
    "def foo(): pass"
   ]
  },
  {
   "cell_type": "code",
   "execution_count": null,
   "metadata": {},
   "outputs": [],
   "source": [
    "#| hide\n",
    "import nbdev; nbdev.nbdev_export()"
   ]
  }
 ],
 "metadata": {
  "kernelspec": {
   "display_name": "python3",
   "language": "python",
   "name": "python3"
  }
 },
 "nbformat": 4,
 "nbformat_minor": 4
}
