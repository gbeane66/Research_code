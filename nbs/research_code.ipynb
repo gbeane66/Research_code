{
 "cells": [
  {
   "cell_type": "markdown",
   "metadata": {},
   "source": [
    "# research_code\n",
    "\n",
    "> A selection of useful code chunks for analysing THz-TDS data."
   ]
  },
  {
   "cell_type": "code",
   "execution_count": 27,
   "metadata": {},
   "outputs": [],
   "source": [
    "#| hide\n",
    "from fastcore.test import *\n",
    "import fastcore.docments as docment\n",
    "from nbdev.showdoc import DocmentTbl"
   ]
  },
  {
   "cell_type": "code",
   "execution_count": 2,
   "metadata": {},
   "outputs": [],
   "source": [
    "#| default_exp research_code"
   ]
  },
  {
   "cell_type": "code",
   "execution_count": 3,
   "metadata": {},
   "outputs": [],
   "source": [
    "#| export \n",
    "import numpy as np"
   ]
  },
  {
   "cell_type": "code",
   "execution_count": 4,
   "metadata": {},
   "outputs": [],
   "source": [
    "#| export\n",
    "def exp_decay(x: np.ndarray, # Input array that contains the indpendent variable.\n",
    "    Amplitude: np.single, # Pre-factor of the exponential decay.\n",
    "    tau: np.single, # Decay constant.\n",
    "    x0: np.single, # Offset for the independent variable.\n",
    "    ) -> np.ndarray: # A new float array containing the exponentially decaying function.\n",
    "    '''\n",
    "    Single exponentially decaying function.\n",
    "    '''\n",
    "    decayOutput = Amplitude * np.exp(-(x-x0)/tau)\n",
    "    \n",
    "    return decayOutput"
   ]
  },
  {
   "cell_type": "code",
   "execution_count": 5,
   "metadata": {},
   "outputs": [],
   "source": [
    "#| export\n",
    "def biexp_decay(x:np.ndarray, # Input array that contains the indpendent variable.\n",
    "    Amplitude1: np.single, # Prefactor of the first exponential decay.\n",
    "    tau1: np.single, # Decay constant of the first exponential term.\n",
    "    Amplitude2: np.single, # Prefactor of the second exponential decay.\n",
    "    tau2: np.single, # Decay constant of the second exponential term.\n",
    "    x0: np.single, # Offset for the indpendent variable.\n",
    "    ) -> np.ndarray: # A new float array containing the exponentially decaying function.\n",
    "    '''\n",
    "    Bi-exponentially decaying function.\n",
    "    '''\n",
    "    decayOutput = Amplitude1 * np.exp(-(x-x0)/tau1) + Amplitude2 * np.exp(-(x-x0)/tau2)\n",
    "    \n",
    "    return decayOutput"
   ]
  },
  {
   "cell_type": "code",
   "execution_count": 6,
   "metadata": {},
   "outputs": [],
   "source": [
    "#| export\n",
    "def gaussian(x:np.ndarray, # Input array that contains the indpendent variable.\n",
    "    Amplitude: np.single, # Prefactor of the gaussian.\n",
    "    sigma: np.single, # Standard deviation of the gaussian.\n",
    "    x0: np.single, # Offset for the indpendent variable.\n",
    "    ) -> np.ndarray: # A new float array containing the gaussian function.\n",
    "    '''\n",
    "    Gaussian function.\n",
    "    '''\n",
    "    outputGaussian = Amplitude * np.exp(-((x-x0)/sigma)**2)\n",
    "\n",
    "    return outputGaussian"
   ]
  },
  {
   "cell_type": "code",
   "execution_count": 7,
   "metadata": {},
   "outputs": [],
   "source": [
    "#| export\n",
    "def convolved_exp_decay(x:np.ndarray, # Input array that contains the indpendent variable.\n",
    "    Amplitude: np.single, # Prefactor of the exponential decay.\n",
    "    tau: np.single, # Decay constant.\n",
    "    sigma: np.single, # Standard deviation of the gaussian\n",
    "    x0: np.single, # Offset for the indpendent variable.\n",
    "    y0: np.single, # Offset in y.\n",
    "    ) -> np.ndarray: # A new float array containing the exponentially decaying function.\n",
    "    '''\n",
    "    Single exponentially decaying function convolved with a gaussian.\n",
    "    '''\n",
    "    L = len(x) # length of the independent variable.\n",
    "\n",
    "    exp_term = exp_decay(x,Amplitude,tau,x0) # The exponential decay.\n",
    "\n",
    "    gaussian_term = gaussian(x,1.0,sigma,x0) # The gaussian part, setting the amplitude normalised to 1.0.\n",
    "    \n",
    "    convolved = np.convolve(exp_term,gaussian_term,mode='full')[0:L] # convolved function.\n",
    "\n",
    "    convolved *= (Amplitude-y0)/np.max(convolved) # Normalise the function so the maximum is at Amplitude\n",
    "    \n",
    "    return convolved + y0"
   ]
  },
  {
   "cell_type": "code",
   "execution_count": 29,
   "metadata": {},
   "outputs": [],
   "source": [
    "#| export\n",
    "def convolved_biexp_decay(x:np.ndarray, # Input array that contains the indpendent variable.\n",
    "    Amplitude1:np.single, # Prefactor of the first exponential decay.\n",
    "    tau1:np.single, # Decay constant of the first exponential term.\n",
    "    Amplitude2:np.single, # Prefactor of the second exponential decay.\n",
    "    tau2:np.single, # Decay constant of the second exponential term.\n",
    "    sigma:np.single, # Standard deviation of the gaussian\n",
    "    x0:np.single, # Offset for the indpendent variable.\n",
    "    y0:np.single, # Offset in y.\n",
    "    ) ->np.ndarray: # A new float array containing the exponentially decaying function.\n",
    "    '''\n",
    "    Bi-exponentially decaying function convolved with a gaussian.\n",
    "    '''    \n",
    "    L = len(x) # length of the independent variable.\n",
    "\n",
    "    biexp_term = biexp_decay(x,Amplitude1,tau1,Amplitude2,tau2,x0) # The biexponential decay.\n",
    "\n",
    "    gaussian_term = gaussian(x,1.0,sigma,x0) # The gaussian part, setting the amplitude normalised to 1.0.\n",
    "    \n",
    "    convolved = np.convolve(biexp_term,gaussian_term,mode='full')[0:L] # convolved function.\n",
    "\n",
    "    convolved *= (Amplitude1+Amplitude2-y0)/np.max(convolved) # Normalise the function so the maximum is at Amplitude\n",
    "    \n",
    "    return convolved + y0"
   ]
  },
  {
   "cell_type": "markdown",
   "metadata": {},
   "source": [
    "## Functions for use with un-excited THz-TDS data"
   ]
  },
  {
   "cell_type": "code",
   "execution_count": 9,
   "metadata": {},
   "outputs": [],
   "source": [
    "#| export\n",
    "def data_reformatter(df):\n",
    "\n",
    "    \"\"\"\n",
    "    The purpose of this function is to repackage or change the format of the data, \n",
    "    such that rather than having two columns with a large number of rows, we have\n",
    "    different columns for each scan. The data is also augmented with two additional \n",
    "    rows - the mean and the std of the scans.\n",
    "\n",
    "    \"\"\"\n",
    "    data = df.to_numpy()\n",
    "\n",
    "    Ntot,_ = np.shape(data) # totoal number of rows\n",
    "\n",
    "    delays = np.unique(data[:,0]) # unique delay positions in mm\n",
    "    \n",
    "    delays = 2*delays/(consts.c) * 1e-3 * 1e12\n",
    "    \n",
    "    N = len(delays) # number of delays per scan\n",
    "\n",
    "    M = int(Ntot/N) # number of scans\n",
    "\n",
    "    df2 = pd.DataFrame(np.reshape(data[:,1],(M,N)).T) # reshape the data and put it into a dataframe\n",
    "\n",
    "    col_names = {i:f'scan{i}' for i in range(M)} # create an array with names like 'scan0, scan1, ....'\n",
    "    \n",
    "    df2 = df2.rename(columns=col_names) # rename the columns\n",
    "\n",
    "    mean_col = df2.mean(axis=1) # calculate a new column containing the mean value for each delay\n",
    "\n",
    "    std_col = df2.std(axis=1) # calculate a new column containing the std value for each delay\n",
    "\n",
    "    df2['mean'] = mean_col # augment the dataframe with a new column containing the mean\n",
    "\n",
    "    df2['std'] = std_col # augment the dataframe with a new column containing the std\n",
    "    \n",
    "    df2.insert(loc=0,column='delay',value=delays) # add a new column at the start of the DataFrame containing the delays\n",
    "\n",
    "    return df2"
   ]
  },
  {
   "cell_type": "code",
   "execution_count": 34,
   "metadata": {},
   "outputs": [
    {
     "data": {
      "text/markdown": [
       "|    | **Type** | **Details** |\n",
       "| -- | -------- | ----------- |\n",
       "| x | ndarray | Input array that contains the indpendent variable. |\n",
       "| Amplitude1 | float32 | Prefactor of the first exponential decay. |\n",
       "| tau1 | float32 | Decay constant of the first exponential term. |\n",
       "| Amplitude2 | float32 | Prefactor of the second exponential decay. |\n",
       "| tau2 | float32 | Decay constant of the second exponential term. |\n",
       "| sigma | float32 | Standard deviation of the gaussian |\n",
       "| x0 | float32 | Offset for the indpendent variable. |\n",
       "| y0 | float32 | Offset in y. |\n",
       "| **Returns** | **ndarray** | **A new float array containing the exponentially decaying function.** |"
      ],
      "text/plain": [
       "<nbdev.showdoc.DocmentTbl>"
      ]
     },
     "execution_count": 34,
     "metadata": {},
     "output_type": "execute_result"
    }
   ],
   "source": [
    "DocmentTbl(convolved_biexp_decay)"
   ]
  },
  {
   "cell_type": "code",
   "execution_count": 10,
   "metadata": {},
   "outputs": [],
   "source": [
    "#| hide\n",
    "from nbdev.showdoc import *"
   ]
  },
  {
   "cell_type": "code",
   "execution_count": 11,
   "metadata": {},
   "outputs": [],
   "source": [
    "#| export\n",
    "def foo(): pass"
   ]
  },
  {
   "cell_type": "code",
   "execution_count": 12,
   "metadata": {},
   "outputs": [],
   "source": [
    "#| hide\n",
    "import nbdev; nbdev.nbdev_export()"
   ]
  },
  {
   "cell_type": "code",
   "execution_count": null,
   "metadata": {},
   "outputs": [],
   "source": []
  }
 ],
 "metadata": {
  "kernelspec": {
   "display_name": "Python 3 (ipykernel)",
   "language": "python",
   "name": "python3"
  },
  "language_info": {
   "codemirror_mode": {
    "name": "ipython",
    "version": 3
   },
   "file_extension": ".py",
   "mimetype": "text/x-python",
   "name": "python",
   "nbconvert_exporter": "python",
   "pygments_lexer": "ipython3",
   "version": "3.10.12"
  }
 },
 "nbformat": 4,
 "nbformat_minor": 4
}
