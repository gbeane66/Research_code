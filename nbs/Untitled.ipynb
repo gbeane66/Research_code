{
 "cells": [
  {
   "cell_type": "code",
   "execution_count": 10,
   "id": "4e17a50f-46a0-48aa-9e0e-e044e2359934",
   "metadata": {},
   "outputs": [],
   "source": [
    "import Research_code.research_code as rc"
   ]
  },
  {
   "cell_type": "code",
   "execution_count": 9,
   "id": "9acb80d5-a78d-42ac-afc2-9d8135e6d58e",
   "metadata": {},
   "outputs": [
    {
     "name": "stdout",
     "output_type": "stream",
     "text": [
      "Help on function convolved_biexp_decay in module Research_code.research_code:\n",
      "\n",
      "convolved_biexp_decay(x: numpy.ndarray, Amplitude1: numpy.float32, tau1: numpy.float32, Amplitude2: numpy.float32, tau2: numpy.float32, sigma: numpy.float32, x0: numpy.float32, y0: numpy.float32) -> numpy.ndarray\n",
      "    Bi-exponentially decaying function convolved with a gaussian.\n",
      "\n"
     ]
    }
   ],
   "source": [
    "help(rc.convolved_biexp_decay)"
   ]
  },
  {
   "cell_type": "code",
   "execution_count": null,
   "id": "177e2422-7b0b-4824-a6dd-d0c8d98e85e4",
   "metadata": {},
   "outputs": [],
   "source": []
  }
 ],
 "metadata": {
  "kernelspec": {
   "display_name": "Python 3 (ipykernel)",
   "language": "python",
   "name": "python3"
  },
  "language_info": {
   "codemirror_mode": {
    "name": "ipython",
    "version": 3
   },
   "file_extension": ".py",
   "mimetype": "text/x-python",
   "name": "python",
   "nbconvert_exporter": "python",
   "pygments_lexer": "ipython3",
   "version": "3.10.12"
  }
 },
 "nbformat": 4,
 "nbformat_minor": 5
}
